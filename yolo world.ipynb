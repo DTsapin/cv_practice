{
 "cells": [
  {
   "cell_type": "code",
   "execution_count": 2,
   "metadata": {},
   "outputs": [],
   "source": [
    "import cv2\n",
    "from ultralytics import YOLOWorld\n",
    "import supervision as sv"
   ]
  },
  {
   "cell_type": "code",
   "execution_count": 35,
   "metadata": {},
   "outputs": [
    {
     "data": {
      "text/plain": [
       "array([      890.8], dtype=float32)"
      ]
     },
     "execution_count": 35,
     "metadata": {},
     "output_type": "execute_result"
    }
   ],
   "source": [
    "detections.xyxy"
   ]
  },
  {
   "cell_type": "code",
   "execution_count": 33,
   "metadata": {},
   "outputs": [
    {
     "name": "stdout",
     "output_type": "stream",
     "text": [
      "\n",
      "0: 480x640 2 license_plates, 138.8ms\n",
      "Speed: 2.0ms preprocess, 138.8ms inference, 3.7ms postprocess per image at shape (1, 3, 480, 640)\n"
     ]
    },
    {
     "data": {
      "text/plain": [
       "True"
      ]
     },
     "execution_count": 33,
     "metadata": {},
     "output_type": "execute_result"
    }
   ],
   "source": [
    "image = cv2.imread(\"25612.jpg\")\n",
    "model = YOLOWorld(\"yolov8x-worldv2.pt\")\n",
    "\n",
    "# Define custom classes\n",
    "model.set_classes([\"license_plate\", \"\"])\n",
    "\n",
    "# Execute prediction for specified categories on an image\n",
    "results = model.predict(image, conf=0.1)\n",
    "\n",
    "# Получение детекций для Supervision\n",
    "detections = sv.Detections.from_ultralytics(results[0])\n",
    "# фильтрация детекций по ширине bounding-box-а\n",
    "w = detections.xyxy[:, 2] - detections.xyxy[:, 0]\n",
    "h = detections.xyxy[:, 3] - detections.xyxy[:, 1]\n",
    "detections = detections[(w < 500)]\n",
    "\n",
    "# Визуализация боксов и подписей\n",
    "annotator = sv.BoxAnnotator()\n",
    "label_annotator = sv.LabelAnnotator()\n",
    "\n",
    "# вывод доп информации (уверенность)\n",
    "labels = [\n",
    "    f\"{class_name} {confidence:.2f}\"\n",
    "    for class_name, confidence\n",
    "    in zip(detections['class_name'], detections.confidence)\n",
    "]\n",
    "annotated_image = annotator.annotate(scene=image, detections=detections)\n",
    "annotated_image = label_annotator.annotate(scene=annotated_image, detections=detections, labels=labels)\n",
    "\n",
    "cv2.imwrite(\"annotated.jpg\", annotated_image)"
   ]
  }
 ],
 "metadata": {
  "kernelspec": {
   "display_name": ".venv",
   "language": "python",
   "name": "python3"
  },
  "language_info": {
   "codemirror_mode": {
    "name": "ipython",
    "version": 3
   },
   "file_extension": ".py",
   "mimetype": "text/x-python",
   "name": "python",
   "nbconvert_exporter": "python",
   "pygments_lexer": "ipython3",
   "version": "3.11.9"
  }
 },
 "nbformat": 4,
 "nbformat_minor": 2
}
