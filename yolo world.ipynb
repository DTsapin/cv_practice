{
 "cells": [
  {
   "cell_type": "code",
   "execution_count": 1,
   "metadata": {},
   "outputs": [],
   "source": [
    "import cv2\n",
    "from ultralytics import YOLOWorld\n",
    "import supervision as sv"
   ]
  },
  {
   "cell_type": "code",
   "execution_count": 2,
   "metadata": {},
   "outputs": [
    {
     "name": "stdout",
     "output_type": "stream",
     "text": [
      "YOLOv8x-worldv2 summary: 228 layers, 72,886,377 parameters, 0 gradients, 309.3 GFLOPs\n",
      "\n",
      "0: 512x640 2 license_plates, 58.7ms\n",
      "Speed: 4.8ms preprocess, 58.7ms inference, 134.5ms postprocess per image at shape (1, 3, 512, 640)\n"
     ]
    },
    {
     "data": {
      "text/plain": [
       "True"
      ]
     },
     "execution_count": 2,
     "metadata": {},
     "output_type": "execute_result"
    }
   ],
   "source": [
    "image = cv2.imread(\"cars_images/images/437.jpg\")\n",
    "model = YOLOWorld(\"yolov8x-worldv2.pt\")\n",
    "\n",
    "# Задаем промпт для модели\n",
    "classes = [\"license_plate\", \"\"]\n",
    "model.set_classes(classes)\n",
    "# Создаем датасет\n",
    "dataset = sv.DetectionDataset(classes=classes, images=['437.jpg'], annotations={'437.jpg': None})\n",
    "\n",
    "# Запускаем детекцию с порогом уверенности\n",
    "results = model.predict(image, conf=0.1, imgsz=(640, 640))\n",
    "\n",
    "# Получение детекций для Supervision\n",
    "detections = sv.Detections.from_ultralytics(results[0])\n",
    "# фильтрация детекций по ширине bounding-box-а\n",
    "w = detections.xyxy[:, 2] - detections.xyxy[:, 0]\n",
    "h = detections.xyxy[:, 3] - detections.xyxy[:, 1]\n",
    "# TODO подобрано эмпирически, надо разобраться\n",
    "detections = detections[(w < 500)]\n",
    "#  Non-Maximum Suppression (NMS) постобработка для удаления дублирующихся прямоугольников\n",
    "filtered_detections = detections.with_nms(threshold=0.5)\n",
    "\n",
    "# Инициализация экземпляров классов для боксов и подписей\n",
    "annotator = sv.BoxAnnotator()\n",
    "label_annotator = sv.LabelAnnotator()\n",
    "\n",
    "# вывод доп информации (уверенность)\n",
    "labels = [\n",
    "    f\"{class_name} {confidence:.2f}\"\n",
    "    for class_name, confidence\n",
    "    in zip(filtered_detections['class_name'], filtered_detections.confidence)\n",
    "]\n",
    "# Непосредственно, рисуем боксы и подписи\n",
    "annotated_image = annotator.annotate(scene=image, detections=filtered_detections)\n",
    "annotated_image = label_annotator.annotate(scene=annotated_image, detections=filtered_detections, labels=labels)\n",
    "\n",
    "# Сохраняем размеченную картинку\n",
    "cv2.imwrite(\"annotated_437.jpg\", annotated_image)\n",
    "\n",
    "# Вносим в датасет инфу по детекциям для конкретной картинки\n",
    "dataset.annotations['437.jpg'] = filtered_detections\n",
    "\n",
    "# Экспортируем в YOLO-формат (data_yaml генерируется невалидный для CVAT, нужно создавать самому)\n",
    "dataset.as_yolo(\n",
    "    images_directory_path=\"license_plate_dataset/images\",\n",
    "    annotations_directory_path=\"license_plate_dataset/labels\",\n",
    ")\n"
   ]
  }
 ],
 "metadata": {
  "kernelspec": {
   "display_name": ".venv",
   "language": "python",
   "name": "python3"
  },
  "language_info": {
   "codemirror_mode": {
    "name": "ipython",
    "version": 3
   },
   "file_extension": ".py",
   "mimetype": "text/x-python",
   "name": "python",
   "nbconvert_exporter": "python",
   "pygments_lexer": "ipython3",
   "version": "3.11.9"
  }
 },
 "nbformat": 4,
 "nbformat_minor": 2
}
