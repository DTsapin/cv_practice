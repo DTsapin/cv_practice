{
 "cells": [
  {
   "cell_type": "code",
   "execution_count": 1,
   "metadata": {},
   "outputs": [],
   "source": [
    "import cv2\n",
    "from ultralytics import YOLOWorld\n",
    "import supervision as sv"
   ]
  },
  {
   "cell_type": "code",
   "execution_count": 3,
   "metadata": {},
   "outputs": [
    {
     "name": "stdout",
     "output_type": "stream",
     "text": [
      "\n",
      "0: 512x640 2 license_plates, 126.0ms\n",
      "Speed: 2.8ms preprocess, 126.0ms inference, 240.3ms postprocess per image at shape (1, 3, 512, 640)\n"
     ]
    }
   ],
   "source": [
    "image = cv2.imread(\"cars_images/images/437.jpg\")\n",
    "model = YOLOWorld(\"yolov8x-worldv2.pt\")\n",
    "\n",
    "# Define custom classes\n",
    "model.set_classes([\"license_plate\", \"\"])\n",
    "# Создаем датасет\n",
    "dataset = sv.DetectionDataset(classes=model.names, images=['437.jpg'], annotations={'437.jpg': None})\n",
    "\n",
    "# Execute prediction for specified categories on an image\n",
    "results = model.predict(image, conf=0.1)\n",
    "\n",
    "# Получение детекций для Supervision\n",
    "detections = sv.Detections.from_ultralytics(results[0])\n",
    "# фильтрация детекций по ширине bounding-box-а\n",
    "w = detections.xyxy[:, 2] - detections.xyxy[:, 0]\n",
    "h = detections.xyxy[:, 3] - detections.xyxy[:, 1]\n",
    "detections = detections[(w < 500)]\n",
    "#  Non-Maximum Suppression (NMS) постобработка для удаления дублирующихся прямоугольников\n",
    "filtered_detections = detections.with_nms(threshold=0.5)\n",
    "\n",
    "# Визуализация боксов и подписей\n",
    "annotator = sv.BoxAnnotator()\n",
    "label_annotator = sv.LabelAnnotator()\n",
    "\n",
    "# вывод доп информации (уверенность)\n",
    "labels = [\n",
    "    f\"{class_name} {confidence:.2f}\"\n",
    "    for class_name, confidence\n",
    "    in zip(filtered_detections['class_name'], filtered_detections.confidence)\n",
    "]\n",
    "annotated_image = annotator.annotate(scene=image, detections=filtered_detections)\n",
    "annotated_image = label_annotator.annotate(scene=annotated_image, detections=filtered_detections, labels=labels)\n",
    "\n",
    "cv2.imwrite(\"annotated_437.jpg\", annotated_image)\n",
    "\n",
    "# Вносим в датасет инфу по детекциям для конкретного файла\n",
    "dataset.annotations['437.jpg'] = filtered_detections\n",
    "\n",
    "# Экспортируем в YOLO-формат\n",
    "dataset.as_yolo(\n",
    "    images_directory_path=\"license_plate_dataset/images\",\n",
    "    annotations_directory_path=\"license_plate_dataset/labels\",\n",
    "    data_yaml_path=\"license_plate_dataset/data.yaml\"\n",
    ")\n"
   ]
  }
 ],
 "metadata": {
  "kernelspec": {
   "display_name": ".venv",
   "language": "python",
   "name": "python3"
  },
  "language_info": {
   "codemirror_mode": {
    "name": "ipython",
    "version": 3
   },
   "file_extension": ".py",
   "mimetype": "text/x-python",
   "name": "python",
   "nbconvert_exporter": "python",
   "pygments_lexer": "ipython3",
   "version": "3.11.9"
  }
 },
 "nbformat": 4,
 "nbformat_minor": 2
}
