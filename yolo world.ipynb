{
 "cells": [
  {
   "cell_type": "code",
   "execution_count": 1,
   "metadata": {},
   "outputs": [],
   "source": [
    "import cv2\n",
    "from ultralytics import YOLOWorld\n",
    "import supervision as sv"
   ]
  },
  {
   "cell_type": "code",
   "execution_count": 2,
   "metadata": {},
   "outputs": [],
   "source": [
    "# Инициализируем модель\n",
    "model = YOLOWorld(\"yolov8x-worldv2.pt\")\n",
    "\n",
    "# Задаем промпт для модели\n",
    "classes = [\"license_plate\", \"\"]\n",
    "model.set_classes(classes)\n",
    "\n",
    "# Создаем датасет\n",
    "dataset = sv.DetectionDataset(classes=classes, \n",
    "                              images=['437.jpg'], \n",
    "                              annotations={'437.jpg': None})\n",
    "\n",
    "# Считываем изображение из папки\n",
    "PATH_TO_IMAGES = \"cars_images/images\"\n",
    "image = cv2.imread(f\"{PATH_TO_IMAGES}/437.jpg\")\n",
    "\n",
    "# Запускаем детекцию с порогом уверенности\n",
    "results = model.predict(image, conf=0.1, imgsz=(480, 640))\n",
    "\n",
    "# Получение детекций для Supervision\n",
    "detections = sv.Detections.from_ultralytics(results[0])\n",
    "\n",
    "# фильтрация детекций по ширине bounding-box-а\n",
    "w = detections.xyxy[:, 2] - detections.xyxy[:, 0]\n",
    "h = detections.xyxy[:, 3] - detections.xyxy[:, 1]\n",
    "\n",
    "# TODO подобрано эмпирически, надо разобраться\n",
    "detections = detections[(w < 500)]\n",
    "\n",
    "#  Non-Maximum Suppression (NMS) постобработка для удаления дублирующихся прямоугольников\n",
    "filtered_detections = detections.with_nms(threshold=0.5)\n",
    "\n",
    "# Инициализация экземпляров классов для боксов и подписей\n",
    "annotator = sv.BoxAnnotator()\n",
    "label_annotator = sv.LabelAnnotator()\n",
    "\n",
    "# вывод доп информации (уверенность)\n",
    "labels = [\n",
    "    f\"{class_name} {confidence:.2f}\"\n",
    "    for class_name, confidence\n",
    "    in zip(filtered_detections['class_name'], filtered_detections.confidence)\n",
    "]\n",
    "\n",
    "# Непосредственно, рисуем боксы и подписи\n",
    "annotated_image = annotator.annotate(scene = image, \n",
    "                                     detections = filtered_detections)\n",
    "annotated_image = label_annotator.annotate(scene = annotated_image, \n",
    "                                           detections = filtered_detections, \n",
    "                                           labels=labels)\n",
    "\n",
    "# Сохраняем размеченную картинку\n",
    "cv2.imwrite(\"annotated_437.jpg\", annotated_image)\n",
    "\n",
    "# Вносим в датасет инфу по детекциям для конкретной картинки\n",
    "dataset.annotations['437.jpg'] = filtered_detections\n",
    "\n",
    "# Экспортируем в YOLO-формат (data_yaml генерируется невалидный для CVAT, нужно создавать самому)\n",
    "dataset.as_yolo(\n",
    "    images_directory_path=\"license_plate_dataset/images\",\n",
    "    annotations_directory_path=\"license_plate_dataset/labels\",\n",
    ")\n"
   ]
  }
 ],
 "metadata": {
  "kernelspec": {
   "display_name": ".venv",
   "language": "python",
   "name": "python3"
  },
  "language_info": {
   "codemirror_mode": {
    "name": "ipython",
    "version": 3
   },
   "file_extension": ".py",
   "mimetype": "text/x-python",
   "name": "python",
   "nbconvert_exporter": "python",
   "pygments_lexer": "ipython3",
   "version": "3.11.9"
  }
 },
 "nbformat": 4,
 "nbformat_minor": 2
}
