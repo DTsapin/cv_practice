{
 "cells": [
  {
   "cell_type": "code",
   "execution_count": 1,
   "metadata": {},
   "outputs": [],
   "source": [
    "from ultralytics import YOLO\n",
    "import os"
   ]
  },
  {
   "cell_type": "code",
   "execution_count": null,
   "metadata": {},
   "outputs": [],
   "source": [
    "# Рабочая директория скрипта (где лежат все необходимые папки с изображениями)\n",
    "WORKING_DIR = os.chdir(\"../cars_image_data\")\n",
    "# Загружаем веса модели\n",
    "model = YOLO(\"yolo11m.pt\")\n",
    "\n",
    "# Обучаем модель\n",
    "results = model.train(data=\"license_plate_detection_dataset/data.yaml\", epochs=100, imgsz=640, model='yolo11m.pt')"
   ]
  }
 ],
 "metadata": {
  "kernelspec": {
   "display_name": ".venv",
   "language": "python",
   "name": "python3"
  },
  "language_info": {
   "codemirror_mode": {
    "name": "ipython",
    "version": 3
   },
   "file_extension": ".py",
   "mimetype": "text/x-python",
   "name": "python",
   "nbconvert_exporter": "python",
   "pygments_lexer": "ipython3",
   "version": "3.11.9"
  }
 },
 "nbformat": 4,
 "nbformat_minor": 2
}
